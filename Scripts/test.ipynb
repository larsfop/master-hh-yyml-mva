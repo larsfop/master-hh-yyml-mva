{
 "cells": [
  {
   "cell_type": "code",
   "execution_count": 97,
   "metadata": {},
   "outputs": [],
   "source": [
    "import torch\n",
    "import torch.nn as nn\n",
    "from torch.utils.data import TensorDataset, DataLoader, random_split, SubsetRandomSampler\n",
    "from pathlib import Path\n",
    "import joblib\n",
    "import numpy as np\n",
    "import matplotlib.pyplot as plt\n",
    "import matplotlib.cm as cm\n",
    "import sys\n",
    "\n",
    "from utils.model_dict import set_model_structure\n",
    "from utils.hh_dataset import HH_Dataset_hdf5\n",
    "from NN.neural_network import Model, NeuralNetwork\n",
    "from utils.model_dict import set_model_structure\n",
    "import uproot\n",
    "import pandas as pd\n",
    "import awkward as ak\n",
    "from pathlib import Path\n",
    "import multiprocessing as mp\n",
    "from copy import deepcopy\n",
    "import json\n",
    "import seaborn as sns\n",
    "import yaml\n",
    "\n",
    "from sklearn.model_selection import StratifiedKFold, KFold, train_test_split\n",
    "from sklearn.utils.class_weight import compute_class_weight\n",
    "import sklearn.metrics as metrics\n",
    "\n",
    "import ROOT\n",
    "import uproot\n",
    "\n",
    "%matplotlib widget"
   ]
  },
  {
   "cell_type": "code",
   "execution_count": 98,
   "metadata": {},
   "outputs": [],
   "source": [
    "channel = '0l2tau'\n",
    "\n",
    "features = [\n",
    "        'pt_H',\n",
    "        'lep_phi0_1',\n",
    "        'met', \n",
    "        'lep_pt_1',\n",
    "        'N_j_central',\n",
    "        'Dphi_metyy'\n",
    "    ]\n",
    "    \n",
    "if channel == '1l0tau':\n",
    "    features += [\n",
    "        'y1_phi0',\n",
    "        'minDphi_metjl',\n",
    "        'Dr_lv', \n",
    "        'Dr_yyW', \n",
    "        'eta_W',\n",
    "    ]\n",
    "\n",
    "elif channel == '0l1tau':\n",
    "    features += [\n",
    "        'y1_phi0',\n",
    "        'y1_eta',\n",
    "    ]\n",
    "\n",
    "else:\n",
    "    features += [\n",
    "        'phi_H', \n",
    "        'lep_pt_2', \n",
    "        'met_phi',\n",
    "        'minDphi_metjl',\n",
    "        'Dphi_metll',\n",
    "        'Dr_lv', \n",
    "        'm_ll',\n",
    "        'Dr_ll',\n",
    "        'Dphi_ll',\n",
    "        'Dr_yyll',\n",
    "        'Jet_pt1',\n",
    "    ]\n",
    "\n",
    "processes = [\n",
    "    'SH', \n",
    "    'Sherpa', \n",
    "    'Vyy',\n",
    "    'signal_ggF', \n",
    "    'signal_VBF'\n",
    "]"
   ]
  },
  {
   "cell_type": "code",
   "execution_count": 99,
   "metadata": {},
   "outputs": [],
   "source": [
    "with HH_Dataset_hdf5(f'../Input_Files/{channel}.hdf5') as hf:\n",
    "    X = hf.tensors(features)\n",
    "    y = hf.labels()\n",
    "    w = hf.tensors('weight')"
   ]
  },
  {
   "cell_type": "code",
   "execution_count": 100,
   "metadata": {},
   "outputs": [
    {
     "data": {
      "text/plain": [
       "torch.Size([20617, 17])"
      ]
     },
     "execution_count": 100,
     "metadata": {},
     "output_type": "execute_result"
    }
   ],
   "source": [
    "X.shape"
   ]
  },
  {
   "cell_type": "code",
   "execution_count": 101,
   "metadata": {},
   "outputs": [],
   "source": [
    "skf = StratifiedKFold(n_splits=10, shuffle=True, random_state=42)\n",
    "\n",
    "ds = TensorDataset(X, y, w)\n",
    "\n",
    "for train_index, test_index in skf.split(X, y):\n",
    "    X_train, X_test = X[train_index], X[test_index]\n",
    "    y_train, y_test = y[train_index], y[test_index]\n",
    "    w_train, w_test = w[train_index], w[test_index]\n",
    "    \n",
    "    train_sampler = SubsetRandomSampler(train_index)\n",
    "    test_sampler = SubsetRandomSampler(test_index)\n",
    "    \n",
    "    train_dl = DataLoader(ds, batch_size=1024, sampler=SubsetRandomSampler(train_index))\n",
    "    test_dl = DataLoader(ds, batch_size=1024, sampler=SubsetRandomSampler(test_index))"
   ]
  },
  {
   "cell_type": "code",
   "execution_count": 102,
   "metadata": {},
   "outputs": [
    {
     "data": {
      "text/plain": [
       "array([    0,     1,     2, ..., 20613, 20614, 20616])"
      ]
     },
     "execution_count": 102,
     "metadata": {},
     "output_type": "execute_result"
    }
   ],
   "source": [
    "train_sampler.indices"
   ]
  },
  {
   "cell_type": "code",
   "execution_count": 103,
   "metadata": {},
   "outputs": [
    {
     "name": "stdout",
     "output_type": "stream",
     "text": [
      "0 tensor([1, 1, 1,  ..., 0, 1, 1])\n",
      "1 tensor([1, 0, 1,  ..., 1, 0, 1])\n",
      "2 tensor([1, 0, 1, 1, 1, 1, 1, 1, 1, 1, 1, 0, 1])\n"
     ]
    }
   ],
   "source": [
    "for i, (x, y, w) in enumerate(test_dl):\n",
    "    print(i, y)"
   ]
  },
  {
   "cell_type": "code",
   "execution_count": 104,
   "metadata": {},
   "outputs": [
    {
     "data": {
      "text/plain": [
       "tensor([1, 1, 1,  ..., 0, 0, 0])"
      ]
     },
     "execution_count": 104,
     "metadata": {},
     "output_type": "execute_result"
    }
   ],
   "source": [
    "indices = test_dl.sampler.indices\n",
    "\n",
    "test_dl.dataset.tensors[1][indices]"
   ]
  },
  {
   "cell_type": "code",
   "execution_count": 105,
   "metadata": {},
   "outputs": [],
   "source": [
    "dl = DataLoader(ds, batch_size=1024)"
   ]
  },
  {
   "cell_type": "code",
   "execution_count": 106,
   "metadata": {},
   "outputs": [
    {
     "data": {
      "text/plain": [
       "(tensor([[ 7.5875e+01,  1.4099e-01,  6.6462e+01,  ..., -1.0000e+02,\n",
       "          -1.0000e+02,  4.9757e+01],\n",
       "         [ 1.2326e+02, -2.3055e+00,  6.7364e+01,  ..., -1.0000e+02,\n",
       "          -1.0000e+02, -1.0000e+02],\n",
       "         [ 1.4237e+02, -2.8732e+00,  4.3757e+01,  ..., -1.0000e+02,\n",
       "          -1.0000e+02,  6.4320e+01],\n",
       "         ...,\n",
       "         [ 8.2454e+01,  1.6778e+00,  6.5940e+01,  ..., -1.0000e+02,\n",
       "          -1.0000e+02, -1.0000e+02],\n",
       "         [ 6.8065e+01, -1.5038e+00,  6.6608e+01,  ..., -1.0000e+02,\n",
       "          -1.0000e+02, -1.0000e+02],\n",
       "         [ 5.6029e+01,  1.8414e-01,  1.4011e+02,  ..., -1.0000e+02,\n",
       "          -1.0000e+02,  2.1631e+02]], dtype=torch.float64),\n",
       " tensor([1, 1, 1,  ..., 0, 0, 0]),\n",
       " tensor([3.9951e-06, 3.8305e-06, 1.9007e-06,  ..., 3.8511e-11, 3.7783e-10,\n",
       "         2.3908e-10], dtype=torch.float64))"
      ]
     },
     "execution_count": 106,
     "metadata": {},
     "output_type": "execute_result"
    }
   ],
   "source": [
    "dl.dataset.tensors"
   ]
  },
  {
   "cell_type": "code",
   "execution_count": 107,
   "metadata": {},
   "outputs": [],
   "source": [
    "with open('../Configs/NN/bc_1l0tau_config.yaml', 'r') as f:\n",
    "    config = yaml.safe_load(f)"
   ]
  },
  {
   "cell_type": "code",
   "execution_count": 108,
   "metadata": {},
   "outputs": [
    {
     "name": "stdout",
     "output_type": "stream",
     "text": [
      "{'type': 'dense', 'neurons': 2048, 'activation': 'relu'}\n",
      "{'type': 'dense', 'neurons': 2048, 'activation': 'relu'}\n",
      "{'type': 'dense', 'neurons': 2048, 'activation': 'relu'}\n",
      "{'type': 'dense', 'neurons': 2048, 'activation': 'relu'}\n",
      "{'type': 'dense', 'neurons': 2048, 'activation': 'relu'}\n"
     ]
    }
   ],
   "source": [
    "for layer in config['model']['layers']:\n",
    "    print(layer)\n",
    "  "
   ]
  },
  {
   "cell_type": "code",
   "execution_count": 109,
   "metadata": {},
   "outputs": [
    {
     "ename": "KeyError",
     "evalue": "'units'",
     "output_type": "error",
     "traceback": [
      "\u001b[0;31m---------------------------------------------------------------------------\u001b[0m",
      "\u001b[0;31mKeyError\u001b[0m                                  Traceback (most recent call last)",
      "Cell \u001b[0;32mIn [109], line 3\u001b[0m\n\u001b[1;32m      1\u001b[0m model \u001b[38;5;241m=\u001b[39m config[\u001b[38;5;124m'\u001b[39m\u001b[38;5;124mmodel\u001b[39m\u001b[38;5;124m'\u001b[39m]\n\u001b[0;32m----> 3\u001b[0m md \u001b[38;5;241m=\u001b[39m \u001b[43mset_model_structure\u001b[49m\u001b[43m(\u001b[49m\n\u001b[1;32m      4\u001b[0m \u001b[43m    \u001b[49m\u001b[43mmodel\u001b[49m\u001b[43m[\u001b[49m\u001b[38;5;124;43m'\u001b[39;49m\u001b[38;5;124;43minput_shape\u001b[39;49m\u001b[38;5;124;43m'\u001b[39;49m\u001b[43m]\u001b[49m\u001b[43m,\u001b[49m\n\u001b[1;32m      5\u001b[0m \u001b[43m    \u001b[49m\u001b[38;5;241;43m*\u001b[39;49m\u001b[43mmodel\u001b[49m\u001b[43m[\u001b[49m\u001b[38;5;124;43m'\u001b[39;49m\u001b[38;5;124;43mlayers\u001b[39;49m\u001b[38;5;124;43m'\u001b[39;49m\u001b[43m]\u001b[49m\u001b[43m,\u001b[49m\n\u001b[1;32m      6\u001b[0m \u001b[43m    \u001b[49m\u001b[43mmodel\u001b[49m\u001b[43m[\u001b[49m\u001b[38;5;124;43m'\u001b[39;49m\u001b[38;5;124;43moutput_shape\u001b[39;49m\u001b[38;5;124;43m'\u001b[39;49m\u001b[43m]\u001b[49m\u001b[43m,\u001b[49m\n\u001b[1;32m      7\u001b[0m \u001b[43m)\u001b[49m\n\u001b[1;32m      9\u001b[0m Model(md)\n",
      "File \u001b[0;32m~/hh_yyml/Scripts/utils/model_dict.py:27\u001b[0m, in \u001b[0;36mset_model_structure\u001b[0;34m(features, batch_norm, *layers)\u001b[0m\n\u001b[1;32m     25\u001b[0m in_neurons \u001b[38;5;241m=\u001b[39m features\n\u001b[1;32m     26\u001b[0m \u001b[38;5;28;01mfor\u001b[39;00m i, layer \u001b[38;5;129;01min\u001b[39;00m \u001b[38;5;28menumerate\u001b[39m(layers[:\u001b[38;5;241m-\u001b[39m\u001b[38;5;241m1\u001b[39m], start\u001b[38;5;241m=\u001b[39m\u001b[38;5;241m1\u001b[39m):\n\u001b[0;32m---> 27\u001b[0m     out_neurons, activation \u001b[38;5;241m=\u001b[39m \u001b[43mlayer\u001b[49m\u001b[43m[\u001b[49m\u001b[38;5;124;43m'\u001b[39;49m\u001b[38;5;124;43mneurons\u001b[39;49m\u001b[38;5;124;43m'\u001b[39;49m\u001b[43m]\u001b[49m, layer[\u001b[38;5;124m'\u001b[39m\u001b[38;5;124mactivation\u001b[39m\u001b[38;5;124m'\u001b[39m]\n\u001b[1;32m     28\u001b[0m     model_dict[\u001b[38;5;124m'\u001b[39m\u001b[38;5;124mlinear_layer_\u001b[39m\u001b[38;5;124m'\u001b[39m \u001b[38;5;241m+\u001b[39m \u001b[38;5;28mstr\u001b[39m(i)] \u001b[38;5;241m=\u001b[39m nn\u001b[38;5;241m.\u001b[39mLinear(in_neurons, out_neurons)\n\u001b[1;32m     29\u001b[0m     \u001b[38;5;28;01mif\u001b[39;00m batch_norm \u001b[38;5;129;01mand\u001b[39;00m i \u001b[38;5;241m<\u001b[39m \u001b[38;5;28mlen\u001b[39m(layers):\n",
      "\u001b[0;31mKeyError\u001b[0m: 'units'"
     ]
    }
   ],
   "source": [
    "model = config['model']\n",
    "\n",
    "md = set_model_structure(\n",
    "    model['input_shape'],\n",
    "    *model['layers'],\n",
    "    model['output_shape'],\n",
    ")\n",
    "\n",
    "Model(md)"
   ]
  },
  {
   "cell_type": "code",
   "execution_count": null,
   "metadata": {},
   "outputs": [],
   "source": [
    "t = torch.randn(10)\n",
    "\n",
    "sampler = SubsetRandomSampler(torch.arange(0, 10))\n",
    "\n",
    "ds = TensorDataset(t)\n",
    "dl = DataLoader(ds, batch_size=1, sampler=sampler)"
   ]
  },
  {
   "cell_type": "code",
   "execution_count": null,
   "metadata": {},
   "outputs": [
    {
     "name": "stdout",
     "output_type": "stream",
     "text": [
      "[tensor([0.3583])]\n",
      "[tensor([-0.8014])]\n",
      "[tensor([-0.0680])]\n",
      "[tensor([-0.7626])]\n",
      "[tensor([0.7407])]\n",
      "[tensor([-0.0673])]\n",
      "[tensor([0.7940])]\n",
      "[tensor([0.5903])]\n",
      "[tensor([1.2902])]\n",
      "[tensor([0.7305])]\n"
     ]
    }
   ],
   "source": [
    "for x in dl:\n",
    "    print(x)"
   ]
  },
  {
   "cell_type": "code",
   "execution_count": null,
   "metadata": {},
   "outputs": [
    {
     "name": "stdout",
     "output_type": "stream",
     "text": [
      "[9 2 6 4 3] [8 0 7 1 5]\n",
      "[7 8 1 0 5] [6 9 4 2 3]\n"
     ]
    }
   ],
   "source": [
    "skf = KFold(n_splits=2, shuffle=True, random_state=42)\n",
    "\n",
    "for train_index, test_index in skf.split(t):\n",
    "    np.random.shuffle(train_index)\n",
    "    np.random.shuffle(test_index)\n",
    "    print(train_index, test_index)"
   ]
  },
  {
   "cell_type": "code",
   "execution_count": null,
   "metadata": {},
   "outputs": [
    {
     "data": {
      "text/plain": [
       "array([9, 3, 1, 4, 2, 0, 8, 5, 7, 6])"
      ]
     },
     "execution_count": 90,
     "metadata": {},
     "output_type": "execute_result"
    }
   ],
   "source": [
    "a = np.arange(0, 10)\n",
    "\n",
    "np.random.shuffle(a)\n",
    "\n",
    "a"
   ]
  }
 ],
 "metadata": {
  "kernelspec": {
   "display_name": "Python 3",
   "language": "python",
   "name": "python3"
  },
  "language_info": {
   "codemirror_mode": {
    "name": "ipython",
    "version": 3
   },
   "file_extension": ".py",
   "mimetype": "text/x-python",
   "name": "python",
   "nbconvert_exporter": "python",
   "pygments_lexer": "ipython3",
   "version": "3.10.4"
  }
 },
 "nbformat": 4,
 "nbformat_minor": 2
}
